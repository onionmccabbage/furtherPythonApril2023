{
 "cells": [
  {
   "cell_type": "markdown",
   "id": "f246ccd9",
   "metadata": {},
   "source": [
    "# Time Series"
   ]
  },
  {
   "cell_type": "code",
   "execution_count": 1,
   "id": "d6eea1b7",
   "metadata": {},
   "outputs": [],
   "source": [
    "import numpy as np\n",
    "import pandas as pd\n",
    "import matplotlib.pyplot as plt"
   ]
  },
  {
   "cell_type": "markdown",
   "id": "108799f6",
   "metadata": {},
   "source": [
    "## Working with time and Data"
   ]
  },
  {
   "cell_type": "code",
   "execution_count": 12,
   "id": "a4aa55eb",
   "metadata": {},
   "outputs": [],
   "source": [
    "import time\n",
    "import timeit\n",
    "import datetime # especially useful for time intervals\n",
    "# there are limits on dates\n",
    "datetime.MAXYEAR\n",
    "datetime.MINYEAR\n",
    "from datetime import datetime\n",
    "from datetime import time\n",
    "from datetime import timedelta"
   ]
  },
  {
   "cell_type": "code",
   "execution_count": 7,
   "id": "1d1b0167",
   "metadata": {},
   "outputs": [
    {
     "data": {
      "text/plain": [
       "datetime.datetime(2023, 4, 21, 9, 50, 37, 350495)"
      ]
     },
     "execution_count": 7,
     "metadata": {},
     "output_type": "execute_result"
    }
   ],
   "source": [
    "now = datetime.now()\n",
    "now"
   ]
  },
  {
   "cell_type": "code",
   "execution_count": 15,
   "id": "bf3bac50",
   "metadata": {},
   "outputs": [
    {
     "data": {
      "text/plain": [
       "4627"
      ]
     },
     "execution_count": 15,
     "metadata": {},
     "output_type": "execute_result"
    }
   ],
   "source": [
    "# we can work with time deltas\n",
    "then = datetime(2010, 8, 20)\n",
    "then\n",
    "delta = now-then\n",
    "delta\n",
    "delta.days"
   ]
  },
  {
   "cell_type": "code",
   "execution_count": 17,
   "id": "b6bdae51",
   "metadata": {},
   "outputs": [
    {
     "data": {
      "text/plain": [
       "datetime.datetime(2023, 5, 15, 9, 50, 37, 350495)"
      ]
     },
     "execution_count": 17,
     "metadata": {},
     "output_type": "execute_result"
    }
   ],
   "source": [
    "days12 = timedelta(12)\n",
    "now+days12+days12"
   ]
  },
  {
   "cell_type": "code",
   "execution_count": 19,
   "id": "7e8b5d36",
   "metadata": {},
   "outputs": [
    {
     "data": {
      "text/plain": [
       "'2023/04/21 Friday April'"
      ]
     },
     "execution_count": 19,
     "metadata": {},
     "output_type": "execute_result"
    }
   ],
   "source": [
    "# we can format dates nicely with date-time 'picture' format\n",
    "now.strftime('%Y/%m/%d %A %B')"
   ]
  },
  {
   "cell_type": "markdown",
   "id": "e41b80d7",
   "metadata": {},
   "source": [
    "## Time Zones"
   ]
  },
  {
   "cell_type": "code",
   "execution_count": 20,
   "id": "efc24f30",
   "metadata": {},
   "outputs": [],
   "source": [
    "import pytz"
   ]
  },
  {
   "cell_type": "code",
   "execution_count": 36,
   "id": "584775aa",
   "metadata": {},
   "outputs": [
    {
     "data": {
      "text/plain": [
       "datetime.datetime(2023, 4, 21, 5, 11, 9, 988769, tzinfo=<DstTzInfo 'America/New_York' EDT-1 day, 20:00:00 DST>)"
      ]
     },
     "execution_count": 36,
     "metadata": {},
     "output_type": "execute_result"
    }
   ],
   "source": [
    "tz = pytz.timezone('America/New_York')\n",
    "tz\n",
    "datetime.now(tz)"
   ]
  },
  {
   "cell_type": "markdown",
   "id": "83cffda3",
   "metadata": {},
   "source": [
    "## Handling Dates and Times in Data Analysis"
   ]
  },
  {
   "cell_type": "code",
   "execution_count": 45,
   "id": "c0d24304",
   "metadata": {},
   "outputs": [
    {
     "data": {
      "text/plain": [
       "Date           object\n",
       "Open          float64\n",
       "High          float64\n",
       "Low           float64\n",
       "Close         float64\n",
       "Volume          int64\n",
       "ExDividend    float64\n",
       "SplitRatio      int64\n",
       "AdjOpen       float64\n",
       "AdjHigh       float64\n",
       "AdjLow        float64\n",
       "AdjClose      float64\n",
       "AdjVolume       int64\n",
       "dtype: object"
      ]
     },
     "execution_count": 45,
     "metadata": {},
     "output_type": "execute_result"
    }
   ],
   "source": [
    "df = pd.read_csv('pydata/ibm.csv')\n",
    "df.dtypes"
   ]
  },
  {
   "cell_type": "code",
   "execution_count": 61,
   "id": "7ecf7a5a",
   "metadata": {},
   "outputs": [
    {
     "data": {
      "text/plain": [
       "Date    datetime64[ns]\n",
       "dtype: object"
      ]
     },
     "execution_count": 61,
     "metadata": {},
     "output_type": "execute_result"
    }
   ],
   "source": [
    "df['Date'] = pd.to_datetime(df['Date'], format='%d/%m/%Y')\n",
    "df[['Date']].dtypes"
   ]
  },
  {
   "cell_type": "code",
   "execution_count": 62,
   "id": "358c79bd",
   "metadata": {},
   "outputs": [
    {
     "data": {
      "text/html": [
       "<div>\n",
       "<style scoped>\n",
       "    .dataframe tbody tr th:only-of-type {\n",
       "        vertical-align: middle;\n",
       "    }\n",
       "\n",
       "    .dataframe tbody tr th {\n",
       "        vertical-align: top;\n",
       "    }\n",
       "\n",
       "    .dataframe thead th {\n",
       "        text-align: right;\n",
       "    }\n",
       "</style>\n",
       "<table border=\"1\" class=\"dataframe\">\n",
       "  <thead>\n",
       "    <tr style=\"text-align: right;\">\n",
       "      <th></th>\n",
       "      <th>Date</th>\n",
       "      <th>Open</th>\n",
       "      <th>High</th>\n",
       "      <th>Low</th>\n",
       "      <th>Close</th>\n",
       "      <th>Volume</th>\n",
       "      <th>ExDividend</th>\n",
       "      <th>SplitRatio</th>\n",
       "      <th>AdjOpen</th>\n",
       "      <th>AdjHigh</th>\n",
       "      <th>AdjLow</th>\n",
       "      <th>AdjClose</th>\n",
       "      <th>AdjVolume</th>\n",
       "    </tr>\n",
       "  </thead>\n",
       "  <tbody>\n",
       "    <tr>\n",
       "      <th>0</th>\n",
       "      <td>2010-01-04</td>\n",
       "      <td>131.18</td>\n",
       "      <td>132.97</td>\n",
       "      <td>130.85</td>\n",
       "      <td>132.45</td>\n",
       "      <td>6155300</td>\n",
       "      <td>0.0</td>\n",
       "      <td>1</td>\n",
       "      <td>107.034744</td>\n",
       "      <td>108.495272</td>\n",
       "      <td>106.765484</td>\n",
       "      <td>108.070985</td>\n",
       "      <td>6155300</td>\n",
       "    </tr>\n",
       "    <tr>\n",
       "      <th>1</th>\n",
       "      <td>2010-01-05</td>\n",
       "      <td>131.68</td>\n",
       "      <td>131.85</td>\n",
       "      <td>130.10</td>\n",
       "      <td>130.85</td>\n",
       "      <td>6841400</td>\n",
       "      <td>0.0</td>\n",
       "      <td>1</td>\n",
       "      <td>107.442712</td>\n",
       "      <td>107.581422</td>\n",
       "      <td>106.153531</td>\n",
       "      <td>106.765484</td>\n",
       "      <td>6841400</td>\n",
       "    </tr>\n",
       "    <tr>\n",
       "      <th>2</th>\n",
       "      <td>2010-01-06</td>\n",
       "      <td>130.68</td>\n",
       "      <td>131.49</td>\n",
       "      <td>129.81</td>\n",
       "      <td>130.00</td>\n",
       "      <td>5605300</td>\n",
       "      <td>0.0</td>\n",
       "      <td>1</td>\n",
       "      <td>106.626774</td>\n",
       "      <td>107.287684</td>\n",
       "      <td>105.916909</td>\n",
       "      <td>106.071937</td>\n",
       "      <td>5605300</td>\n",
       "    </tr>\n",
       "    <tr>\n",
       "      <th>3</th>\n",
       "      <td>2010-01-07</td>\n",
       "      <td>129.87</td>\n",
       "      <td>130.25</td>\n",
       "      <td>128.91</td>\n",
       "      <td>129.55</td>\n",
       "      <td>5840600</td>\n",
       "      <td>0.0</td>\n",
       "      <td>1</td>\n",
       "      <td>105.965865</td>\n",
       "      <td>106.275921</td>\n",
       "      <td>105.182564</td>\n",
       "      <td>105.704765</td>\n",
       "      <td>5840600</td>\n",
       "    </tr>\n",
       "  </tbody>\n",
       "</table>\n",
       "</div>"
      ],
      "text/plain": [
       "        Date    Open    High     Low   Close   Volume  ExDividend  SplitRatio  \\\n",
       "0 2010-01-04  131.18  132.97  130.85  132.45  6155300         0.0           1   \n",
       "1 2010-01-05  131.68  131.85  130.10  130.85  6841400         0.0           1   \n",
       "2 2010-01-06  130.68  131.49  129.81  130.00  5605300         0.0           1   \n",
       "3 2010-01-07  129.87  130.25  128.91  129.55  5840600         0.0           1   \n",
       "\n",
       "      AdjOpen     AdjHigh      AdjLow    AdjClose  AdjVolume  \n",
       "0  107.034744  108.495272  106.765484  108.070985    6155300  \n",
       "1  107.442712  107.581422  106.153531  106.765484    6841400  \n",
       "2  106.626774  107.287684  105.916909  106.071937    5605300  \n",
       "3  105.965865  106.275921  105.182564  105.704765    5840600  "
      ]
     },
     "execution_count": 62,
     "metadata": {},
     "output_type": "execute_result"
    }
   ],
   "source": [
    "df.head(4)"
   ]
  },
  {
   "cell_type": "code",
   "execution_count": 70,
   "id": "e79a68bb",
   "metadata": {},
   "outputs": [
    {
     "data": {
      "text/plain": [
       "Timedelta('4 days 00:00:00')"
      ]
     },
     "execution_count": 70,
     "metadata": {},
     "output_type": "execute_result"
    }
   ],
   "source": [
    "early_date = df.iloc[0]['Date']\n",
    "early_date\n",
    "df[['Date']].dtypes # Date    datetime64[ns]\n",
    "type(early_date) # pandas._libs.tslibs.timestamps.Timestamp\n",
    "# we can use these dates in calculations\n",
    "late_date = (df.iloc[4]['Date'])\n",
    "late_date-early_date"
   ]
  },
  {
   "cell_type": "code",
   "execution_count": 69,
   "id": "9487795d",
   "metadata": {},
   "outputs": [
    {
     "data": {
      "text/plain": [
       "Timedelta('4 days 00:00:00')"
      ]
     },
     "execution_count": 69,
     "metadata": {},
     "output_type": "execute_result"
    }
   ],
   "source": []
  },
  {
   "cell_type": "code",
   "execution_count": null,
   "id": "3d28fb58",
   "metadata": {},
   "outputs": [],
   "source": []
  }
 ],
 "metadata": {
  "kernelspec": {
   "display_name": "Python 3 (ipykernel)",
   "language": "python",
   "name": "python3"
  },
  "language_info": {
   "codemirror_mode": {
    "name": "ipython",
    "version": 3
   },
   "file_extension": ".py",
   "mimetype": "text/x-python",
   "name": "python",
   "nbconvert_exporter": "python",
   "pygments_lexer": "ipython3",
   "version": "3.9.12"
  }
 },
 "nbformat": 4,
 "nbformat_minor": 5
}
