{
 "cells": [
  {
   "cell_type": "markdown",
   "id": "689fc0c8",
   "metadata": {},
   "source": [
    "### We can Represent data in Charts"
   ]
  },
  {
   "cell_type": "code",
   "execution_count": 1,
   "id": "695f0cd7",
   "metadata": {},
   "outputs": [],
   "source": [
    "import numpy as np\n",
    "import pandas as pd\n",
    "import matplotlib.pyplot as plt"
   ]
  },
  {
   "cell_type": "code",
   "execution_count": 10,
   "id": "bbb44550",
   "metadata": {},
   "outputs": [
    {
     "data": {
      "text/plain": [
       "array([3.23341366, 3.95827819, 3.00539693, 3.92817727, 3.72541766])"
      ]
     },
     "execution_count": 10,
     "metadata": {},
     "output_type": "execute_result"
    }
   ],
   "source": [
    "# we need some data to be plotted\n",
    "x = np.arange(5)\n",
    "y = np.random.rand(5)+3 # five random numbber of 3 or more\n",
    "y"
   ]
  },
  {
   "cell_type": "code",
   "execution_count": 12,
   "id": "9df76d62",
   "metadata": {},
   "outputs": [
    {
     "data": {
      "text/plain": [
       "Text(0.5, 1.0, 'vertical bars')"
      ]
     },
     "execution_count": 12,
     "metadata": {},
     "output_type": "execute_result"
    },
    {
     "data": {
      "image/png": "[encoded data removed]",
      "text/plain": [
       "<Figure size 432x288 with 1 Axes>"
      ]
     },
     "metadata": {
      "needs_background": "light"
     },
     "output_type": "display_data"
    }
   ],
   "source": [
    "# we can plot any kind of chart, e.g. a bar chart\n",
    "plt.bar(x,y)\n",
    "plt.title('vertical bars')"
   ]
  },
  {
   "cell_type": "code",
   "execution_count": null,
   "id": "aa77c8f7",
   "metadata": {},
   "outputs": [],
   "source": []
  }
 ],
 "metadata": {
  "kernelspec": {
   "display_name": "Python 3 (ipykernel)",
   "language": "python",
   "name": "python3"
  },
  "language_info": {
   "codemirror_mode": {
    "name": "ipython",
    "version": 3
   },
   "file_extension": ".py",
   "mimetype": "text/x-python",
   "name": "python",
   "nbconvert_exporter": "python",
   "pygments_lexer": "ipython3",
   "version": "3.9.12"
  }
 },
 "nbformat": 4,
 "nbformat_minor": 5
}
