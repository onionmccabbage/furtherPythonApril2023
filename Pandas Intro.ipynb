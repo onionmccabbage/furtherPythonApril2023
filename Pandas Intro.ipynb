{
 "cells": [
  {
   "cell_type": "markdown",
   "id": "3a3f54d2",
   "metadata": {},
   "source": [
    "### Introducing Pandas"
   ]
  },
  {
   "cell_type": "code",
   "execution_count": 2,
   "id": "3ede28ff",
   "metadata": {},
   "outputs": [],
   "source": [
    "# by convention we use the first cell to import stuff\n",
    "import numpy as np\n",
    "import pandas as pd"
   ]
  },
  {
   "cell_type": "code",
   "execution_count": 9,
   "id": "f69975cc",
   "metadata": {},
   "outputs": [
    {
     "data": {
      "text/plain": [
       "0     6.0\n",
       "1     7.0\n",
       "2    -5.0\n",
       "3     3.0\n",
       "4    99.0\n",
       "dtype: float64"
      ]
     },
     "execution_count": 9,
     "metadata": {},
     "output_type": "execute_result"
    }
   ],
   "source": [
    "# pandas has a 'series' data type\n",
    "o = pd.Series([6.0, 7, -5, 3, 99]) # all the same data type\n",
    "o.dtype\n",
    "o.values # the values are in a 1-dimensional numpy array\n",
    "o.index # there will be a default index\n",
    "o"
   ]
  },
  {
   "cell_type": "markdown",
   "id": "93a611e1",
   "metadata": {},
   "source": [
    "#### Building Series"
   ]
  },
  {
   "cell_type": "code",
   "execution_count": 15,
   "id": "e2371492",
   "metadata": {},
   "outputs": [
    {
     "data": {
      "text/plain": [
       "d     4\n",
       "b    77\n",
       "a    -5\n",
       "c     3\n",
       "e    99\n",
       "dtype: int64"
      ]
     },
     "execution_count": 15,
     "metadata": {},
     "output_type": "execute_result"
    }
   ],
   "source": [
    "values = [4, 7, -5, 3] # just a Python list\n",
    "ind    = ['d', 'b', 'a', 'c'] # another Python list\n",
    "# we can make a Series from these lists\n",
    "s = pd.Series(values, index=ind) # replace the default index with our own\n",
    "s['a'] # show the data member at index position 'a'\n",
    "s['e'] = 99 # set a new member in the Series with index label 'e'\n",
    "s['b'] = 77 # mutate a member\n",
    "s"
   ]
  },
  {
   "cell_type": "markdown",
   "id": "c64c2410",
   "metadata": {},
   "source": [
    "#### Slicing Series"
   ]
  },
  {
   "cell_type": "code",
   "execution_count": 22,
   "id": "6bc89d2f",
   "metadata": {},
   "outputs": [
    {
     "name": "stdout",
     "output_type": "stream",
     "text": [
      "d     4\n",
      "b    77\n",
      "a    -5\n",
      "c     3\n",
      "dtype: int64\n"
     ]
    },
    {
     "data": {
      "text/plain": [
       "d     4\n",
       "b    77\n",
       "a    -5\n",
       "c     3\n",
       "e    99\n",
       "dtype: int64"
      ]
     },
     "execution_count": 22,
     "metadata": {},
     "output_type": "execute_result"
    }
   ],
   "source": [
    "print( s['d':'c'] ) # CAREFUL: slicing is start:stop:step (not stop-before)\n",
    "# remember, the actual Series is NOT mutated\n",
    "s"
   ]
  },
  {
   "cell_type": "code",
   "execution_count": 27,
   "id": "f081a2ac",
   "metadata": {},
   "outputs": [
    {
     "data": {
      "text/plain": [
       "d    2.000000\n",
       "b    8.774964\n",
       "a         NaN\n",
       "c    1.732051\n",
       "e    9.949874\n",
       "dtype: float64"
      ]
     },
     "execution_count": 27,
     "metadata": {},
     "output_type": "execute_result"
    }
   ],
   "source": [
    "# we can do maths we can implement logic\n",
    "s[s>5]\n",
    "s[s<0]\n",
    "s**0.5 # the data-type will need ot change automatically"
   ]
  },
  {
   "cell_type": "code",
   "execution_count": 28,
   "id": "99b13734",
   "metadata": {},
   "outputs": [],
   "source": [
    "# Nan means not a number - but NaN is a numeric data type"
   ]
  },
  {
   "cell_type": "code",
   "execution_count": 29,
   "id": "6e01b6bf",
   "metadata": {},
   "outputs": [],
   "source": [
    "# we can make a dict of values\n",
    "sdata = {'Cork':35000, 'Dublin':71000, 'Galway':16000, 'Athlone':5000}\n",
    "idata = ['Cork', 'Dublin', 'Galway', 'Athlone', 'Shannon']"
   ]
  },
  {
   "cell_type": "code",
   "execution_count": 30,
   "id": "2f9b7eae",
   "metadata": {},
   "outputs": [
    {
     "data": {
      "text/plain": [
       "Cork       35000.0\n",
       "Dublin     71000.0\n",
       "Galway     16000.0\n",
       "Athlone     5000.0\n",
       "Shannon        NaN\n",
       "dtype: float64"
      ]
     },
     "execution_count": 30,
     "metadata": {},
     "output_type": "execute_result"
    }
   ],
   "source": [
    "p = pd.Series(sdata, index=idata)\n",
    "p # mising values are automatically set to NaN"
   ]
  },
  {
   "cell_type": "code",
   "execution_count": 31,
   "id": "702cfc84",
   "metadata": {},
   "outputs": [
    {
     "data": {
      "text/plain": [
       "Cork       35000.0\n",
       "Dublin     71000.0\n",
       "Galway     16000.0\n",
       "Athlone     5000.0\n",
       "Shannon    32323.0\n",
       "dtype: float64"
      ]
     },
     "execution_count": 31,
     "metadata": {},
     "output_type": "execute_result"
    }
   ],
   "source": [
    "p['Shannon'] = 32323\n",
    "p"
   ]
  },
  {
   "cell_type": "markdown",
   "id": "be7c129e",
   "metadata": {},
   "source": [
    "#### Pandas Data Frame"
   ]
  },
  {
   "cell_type": "code",
   "execution_count": 32,
   "id": "0c5bee94",
   "metadata": {},
   "outputs": [],
   "source": [
    "# the Data Frame is a collection of Pandas Series as columns\n",
    "# all the series will share one index\n",
    "# Each column may have a header\n",
    "# looks a bit like a spreadsheet\n",
    "town_list = ['Cork', 'Dublin', 'Galway', 'Athlone', 'Shannon', 'Roscarberry']\n",
    "year_list = [2017, 2018, 2019, 2020, 2021, 2022] # a list\n",
    "pop_list  = [1.5, 1.7, 3.6, 2.4, 2.9, 3.2] # a list\n",
    "data = {'town':town_list, 'year':year_list, 'pop': pop_list } # a dict"
   ]
  },
  {
   "cell_type": "code",
   "execution_count": 33,
   "id": "0e6a5ea4",
   "metadata": {},
   "outputs": [
    {
     "data": {
      "text/html": [
       "<div>\n",
       "<style scoped>\n",
       "    .dataframe tbody tr th:only-of-type {\n",
       "        vertical-align: middle;\n",
       "    }\n",
       "\n",
       "    .dataframe tbody tr th {\n",
       "        vertical-align: top;\n",
       "    }\n",
       "\n",
       "    .dataframe thead th {\n",
       "        text-align: right;\n",
       "    }\n",
       "</style>\n",
       "<table border=\"1\" class=\"dataframe\">\n",
       "  <thead>\n",
       "    <tr style=\"text-align: right;\">\n",
       "      <th></th>\n",
       "      <th>town</th>\n",
       "      <th>year</th>\n",
       "      <th>pop</th>\n",
       "    </tr>\n",
       "  </thead>\n",
       "  <tbody>\n",
       "    <tr>\n",
       "      <th>0</th>\n",
       "      <td>Cork</td>\n",
       "      <td>2017</td>\n",
       "      <td>1.5</td>\n",
       "    </tr>\n",
       "    <tr>\n",
       "      <th>1</th>\n",
       "      <td>Dublin</td>\n",
       "      <td>2018</td>\n",
       "      <td>1.7</td>\n",
       "    </tr>\n",
       "    <tr>\n",
       "      <th>2</th>\n",
       "      <td>Galway</td>\n",
       "      <td>2019</td>\n",
       "      <td>3.6</td>\n",
       "    </tr>\n",
       "    <tr>\n",
       "      <th>3</th>\n",
       "      <td>Athlone</td>\n",
       "      <td>2020</td>\n",
       "      <td>2.4</td>\n",
       "    </tr>\n",
       "    <tr>\n",
       "      <th>4</th>\n",
       "      <td>Shannon</td>\n",
       "      <td>2021</td>\n",
       "      <td>2.9</td>\n",
       "    </tr>\n",
       "    <tr>\n",
       "      <th>5</th>\n",
       "      <td>Roscarberry</td>\n",
       "      <td>2022</td>\n",
       "      <td>3.2</td>\n",
       "    </tr>\n",
       "  </tbody>\n",
       "</table>\n",
       "</div>"
      ],
      "text/plain": [
       "          town  year  pop\n",
       "0         Cork  2017  1.5\n",
       "1       Dublin  2018  1.7\n",
       "2       Galway  2019  3.6\n",
       "3      Athlone  2020  2.4\n",
       "4      Shannon  2021  2.9\n",
       "5  Roscarberry  2022  3.2"
      ]
     },
     "execution_count": 33,
     "metadata": {},
     "output_type": "execute_result"
    }
   ],
   "source": [
    "df = pd.DataFrame(data)\n",
    "df # now each columns is made up from a Pandas Series"
   ]
  },
  {
   "cell_type": "code",
   "execution_count": 36,
   "id": "33c19849",
   "metadata": {},
   "outputs": [
    {
     "data": {
      "text/html": [
       "<div>\n",
       "<style scoped>\n",
       "    .dataframe tbody tr th:only-of-type {\n",
       "        vertical-align: middle;\n",
       "    }\n",
       "\n",
       "    .dataframe tbody tr th {\n",
       "        vertical-align: top;\n",
       "    }\n",
       "\n",
       "    .dataframe thead th {\n",
       "        text-align: right;\n",
       "    }\n",
       "</style>\n",
       "<table border=\"1\" class=\"dataframe\">\n",
       "  <thead>\n",
       "    <tr style=\"text-align: right;\">\n",
       "      <th></th>\n",
       "      <th>town</th>\n",
       "      <th>year</th>\n",
       "      <th>pop</th>\n",
       "    </tr>\n",
       "  </thead>\n",
       "  <tbody>\n",
       "    <tr>\n",
       "      <th>4</th>\n",
       "      <td>Shannon</td>\n",
       "      <td>2021</td>\n",
       "      <td>2.9</td>\n",
       "    </tr>\n",
       "    <tr>\n",
       "      <th>5</th>\n",
       "      <td>Roscarberry</td>\n",
       "      <td>2022</td>\n",
       "      <td>3.2</td>\n",
       "    </tr>\n",
       "  </tbody>\n",
       "</table>\n",
       "</div>"
      ],
      "text/plain": [
       "          town  year  pop\n",
       "4      Shannon  2021  2.9\n",
       "5  Roscarberry  2022  3.2"
      ]
     },
     "execution_count": 36,
     "metadata": {},
     "output_type": "execute_result"
    }
   ],
   "source": [
    "df.head(3)\n",
    "df.tail(2)"
   ]
  },
  {
   "cell_type": "code",
   "execution_count": 38,
   "id": "f898dd77",
   "metadata": {},
   "outputs": [
    {
     "data": {
      "text/plain": [
       "one      1.5\n",
       "two      1.7\n",
       "three    3.6\n",
       "four     2.4\n",
       "five     2.9\n",
       "six      3.2\n",
       "Name: pop, dtype: float64"
      ]
     },
     "execution_count": 38,
     "metadata": {},
     "output_type": "execute_result"
    }
   ],
   "source": [
    "# we can specify the order of the columns and even which columns we need\n",
    "index_l = ['one', 'two', 'three', 'four', 'five', 'six']\n",
    "df = pd.DataFrame(data, columns=['pop', 'year'], index=index_l)\n",
    "df['pop'] # we now have a Pandas Series"
   ]
  },
  {
   "cell_type": "code",
   "execution_count": null,
   "id": "0c5f95aa",
   "metadata": {},
   "outputs": [],
   "source": []
  }
 ],
 "metadata": {
  "kernelspec": {
   "display_name": "Python 3 (ipykernel)",
   "language": "python",
   "name": "python3"
  },
  "language_info": {
   "codemirror_mode": {
    "name": "ipython",
    "version": 3
   },
   "file_extension": ".py",
   "mimetype": "text/x-python",
   "name": "python",
   "nbconvert_exporter": "python",
   "pygments_lexer": "ipython3",
   "version": "3.9.12"
  }
 },
 "nbformat": 4,
 "nbformat_minor": 5
}
