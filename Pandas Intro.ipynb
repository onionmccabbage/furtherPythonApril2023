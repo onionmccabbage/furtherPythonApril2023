{
 "cells": [
  {
   "cell_type": "markdown",
   "id": "bee31b7b",
   "metadata": {},
   "source": [
    "### Introducing Pandas"
   ]
  },
  {
   "cell_type": "code",
   "execution_count": 2,
   "id": "b9909b43",
   "metadata": {},
   "outputs": [],
   "source": [
    "# by convention we use the first cell to import stuff\n",
    "import numpy as np\n",
    "import pandas as pd"
   ]
  },
  {
   "cell_type": "code",
   "execution_count": 9,
   "id": "d184ae0e",
   "metadata": {},
   "outputs": [
    {
     "data": {
      "text/plain": [
       "0     6.0\n",
       "1     7.0\n",
       "2    -5.0\n",
       "3     3.0\n",
       "4    99.0\n",
       "dtype: float64"
      ]
     },
     "execution_count": 9,
     "metadata": {},
     "output_type": "execute_result"
    }
   ],
   "source": [
    "# pandas has a 'series' data type\n",
    "o = pd.Series([6.0, 7, -5, 3, 99]) # all the same data type\n",
    "o.dtype\n",
    "o.values # the values are in a 1-dimensional numpy array\n",
    "o.index # there will be a default index\n",
    "o"
   ]
  },
  {
   "cell_type": "markdown",
   "id": "4fa6ddfd",
   "metadata": {},
   "source": [
    "#### Building Series"
   ]
  },
  {
   "cell_type": "code",
   "execution_count": 15,
   "id": "552d1a93",
   "metadata": {},
   "outputs": [
    {
     "data": {
      "text/plain": [
       "d     4\n",
       "b    77\n",
       "a    -5\n",
       "c     3\n",
       "e    99\n",
       "dtype: int64"
      ]
     },
     "execution_count": 15,
     "metadata": {},
     "output_type": "execute_result"
    }
   ],
   "source": [
    "values = [4, 7, -5, 3] # just a Python list\n",
    "ind    = ['d', 'b', 'a', 'c'] # another Python list\n",
    "# we can make a Series from these lists\n",
    "s = pd.Series(values, index=ind) # replace the default index with our own\n",
    "s['a'] # show the data member at index position 'a'\n",
    "s['e'] = 99 # set a new member in the Series with index label 'e'\n",
    "s['b'] = 77 # mutate a member\n",
    "s"
   ]
  },
  {
   "cell_type": "markdown",
   "id": "8d22af3e",
   "metadata": {},
   "source": [
    "#### Slicing Series"
   ]
  },
  {
   "cell_type": "code",
   "execution_count": 22,
   "id": "073bbe7f",
   "metadata": {},
   "outputs": [
    {
     "name": "stdout",
     "output_type": "stream",
     "text": [
      "d     4\n",
      "b    77\n",
      "a    -5\n",
      "c     3\n",
      "dtype: int64\n"
     ]
    },
    {
     "data": {
      "text/plain": [
       "d     4\n",
       "b    77\n",
       "a    -5\n",
       "c     3\n",
       "e    99\n",
       "dtype: int64"
      ]
     },
     "execution_count": 22,
     "metadata": {},
     "output_type": "execute_result"
    }
   ],
   "source": [
    "print( s['d':'c'] ) # CAREFUL: slicing is start:stop:step (not stop-before)\n",
    "# remember, the actual Series is NOT mutated\n",
    "s"
   ]
  },
  {
   "cell_type": "code",
   "execution_count": 27,
   "id": "15e36e8c",
   "metadata": {},
   "outputs": [
    {
     "data": {
      "text/plain": [
       "d    2.000000\n",
       "b    8.774964\n",
       "a         NaN\n",
       "c    1.732051\n",
       "e    9.949874\n",
       "dtype: float64"
      ]
     },
     "execution_count": 27,
     "metadata": {},
     "output_type": "execute_result"
    }
   ],
   "source": [
    "# we can do maths we can implement logic\n",
    "s[s>5]\n",
    "s[s<0]\n",
    "s**0.5 # the data-type will need ot change automatically"
   ]
  },
  {
   "cell_type": "code",
   "execution_count": 28,
   "id": "f7f53572",
   "metadata": {},
   "outputs": [],
   "source": [
    "# Nan means not a number - but NaN is a numeric data type"
   ]
  },
  {
   "cell_type": "code",
   "execution_count": 29,
   "id": "46d4e78c",
   "metadata": {},
   "outputs": [],
   "source": [
    "# we can make a dict of values\n",
    "sdata = {'Cork':35000, 'Dublin':71000, 'Galway':16000, 'Athlone':5000}\n",
    "idata = ['Cork', 'Dublin', 'Galway', 'Athlone', 'Shannon']"
   ]
  },
  {
   "cell_type": "code",
   "execution_count": 30,
   "id": "3d2bd8ac",
   "metadata": {},
   "outputs": [
    {
     "data": {
      "text/plain": [
       "Cork       35000.0\n",
       "Dublin     71000.0\n",
       "Galway     16000.0\n",
       "Athlone     5000.0\n",
       "Shannon        NaN\n",
       "dtype: float64"
      ]
     },
     "execution_count": 30,
     "metadata": {},
     "output_type": "execute_result"
    }
   ],
   "source": [
    "p = pd.Series(sdata, index=idata)\n",
    "p # mising values are automatically set to NaN"
   ]
  },
  {
   "cell_type": "code",
   "execution_count": 31,
   "id": "f9f6e750",
   "metadata": {},
   "outputs": [
    {
     "data": {
      "text/plain": [
       "Cork       35000.0\n",
       "Dublin     71000.0\n",
       "Galway     16000.0\n",
       "Athlone     5000.0\n",
       "Shannon    32323.0\n",
       "dtype: float64"
      ]
     },
     "execution_count": 31,
     "metadata": {},
     "output_type": "execute_result"
    }
   ],
   "source": [
    "p['Shannon'] = 32323\n",
    "p"
   ]
  },
  {
   "cell_type": "markdown",
   "id": "fe1a9906",
   "metadata": {},
   "source": [
    "#### Pandas Data Frame"
   ]
  },
  {
   "cell_type": "code",
   "execution_count": 32,
   "id": "d5e4354a",
   "metadata": {},
   "outputs": [],
   "source": [
    "# the Data Frame is a collection of Pandas Series as columns\n",
    "# all the series will share one index\n",
    "# Each column may have a header\n",
    "# looks a bit like a spreadsheet\n",
    "town_list = ['Cork', 'Dublin', 'Galway', 'Athlone', 'Shannon', 'Roscarberry']\n",
    "year_list = [2017, 2018, 2019, 2020, 2021, 2022] # a list\n",
    "pop_list  = [1.5, 1.7, 3.6, 2.4, 2.9, 3.2] # a list\n",
    "data = {'town':town_list, 'year':year_list, 'pop': pop_list } # a dict"
   ]
  },
  {
   "cell_type": "code",
   "execution_count": 33,
   "id": "06d4dbce",
   "metadata": {},
   "outputs": [
    {
     "data": {
      "text/html": [
       "<div>\n",
       "<style scoped>\n",
       "    .dataframe tbody tr th:only-of-type {\n",
       "        vertical-align: middle;\n",
       "    }\n",
       "\n",
       "    .dataframe tbody tr th {\n",
       "        vertical-align: top;\n",
       "    }\n",
       "\n",
       "    .dataframe thead th {\n",
       "        text-align: right;\n",
       "    }\n",
       "</style>\n",
       "<table border=\"1\" class=\"dataframe\">\n",
       "  <thead>\n",
       "    <tr style=\"text-align: right;\">\n",
       "      <th></th>\n",
       "      <th>town</th>\n",
       "      <th>year</th>\n",
       "      <th>pop</th>\n",
       "    </tr>\n",
       "  </thead>\n",
       "  <tbody>\n",
       "    <tr>\n",
       "      <th>0</th>\n",
       "      <td>Cork</td>\n",
       "      <td>2017</td>\n",
       "      <td>1.5</td>\n",
       "    </tr>\n",
       "    <tr>\n",
       "      <th>1</th>\n",
       "      <td>Dublin</td>\n",
       "      <td>2018</td>\n",
       "      <td>1.7</td>\n",
       "    </tr>\n",
       "    <tr>\n",
       "      <th>2</th>\n",
       "      <td>Galway</td>\n",
       "      <td>2019</td>\n",
       "      <td>3.6</td>\n",
       "    </tr>\n",
       "    <tr>\n",
       "      <th>3</th>\n",
       "      <td>Athlone</td>\n",
       "      <td>2020</td>\n",
       "      <td>2.4</td>\n",
       "    </tr>\n",
       "    <tr>\n",
       "      <th>4</th>\n",
       "      <td>Shannon</td>\n",
       "      <td>2021</td>\n",
       "      <td>2.9</td>\n",
       "    </tr>\n",
       "    <tr>\n",
       "      <th>5</th>\n",
       "      <td>Roscarberry</td>\n",
       "      <td>2022</td>\n",
       "      <td>3.2</td>\n",
       "    </tr>\n",
       "  </tbody>\n",
       "</table>\n",
       "</div>"
      ],
      "text/plain": [
       "          town  year  pop\n",
       "0         Cork  2017  1.5\n",
       "1       Dublin  2018  1.7\n",
       "2       Galway  2019  3.6\n",
       "3      Athlone  2020  2.4\n",
       "4      Shannon  2021  2.9\n",
       "5  Roscarberry  2022  3.2"
      ]
     },
     "execution_count": 33,
     "metadata": {},
     "output_type": "execute_result"
    }
   ],
   "source": [
    "df = pd.DataFrame(data)\n",
    "df # now each columns is made up from a Pandas Series"
   ]
  },
  {
   "cell_type": "code",
   "execution_count": 36,
   "id": "ad92ad92",
   "metadata": {},
   "outputs": [
    {
     "data": {
      "text/html": [
       "<div>\n",
       "<style scoped>\n",
       "    .dataframe tbody tr th:only-of-type {\n",
       "        vertical-align: middle;\n",
       "    }\n",
       "\n",
       "    .dataframe tbody tr th {\n",
       "        vertical-align: top;\n",
       "    }\n",
       "\n",
       "    .dataframe thead th {\n",
       "        text-align: right;\n",
       "    }\n",
       "</style>\n",
       "<table border=\"1\" class=\"dataframe\">\n",
       "  <thead>\n",
       "    <tr style=\"text-align: right;\">\n",
       "      <th></th>\n",
       "      <th>town</th>\n",
       "      <th>year</th>\n",
       "      <th>pop</th>\n",
       "    </tr>\n",
       "  </thead>\n",
       "  <tbody>\n",
       "    <tr>\n",
       "      <th>4</th>\n",
       "      <td>Shannon</td>\n",
       "      <td>2021</td>\n",
       "      <td>2.9</td>\n",
       "    </tr>\n",
       "    <tr>\n",
       "      <th>5</th>\n",
       "      <td>Roscarberry</td>\n",
       "      <td>2022</td>\n",
       "      <td>3.2</td>\n",
       "    </tr>\n",
       "  </tbody>\n",
       "</table>\n",
       "</div>"
      ],
      "text/plain": [
       "          town  year  pop\n",
       "4      Shannon  2021  2.9\n",
       "5  Roscarberry  2022  3.2"
      ]
     },
     "execution_count": 36,
     "metadata": {},
     "output_type": "execute_result"
    }
   ],
   "source": [
    "df.head(3)\n",
    "df.tail(2)"
   ]
  },
  {
   "cell_type": "code",
   "execution_count": 44,
   "id": "4d39808b",
   "metadata": {},
   "outputs": [
    {
     "data": {
      "text/html": [
       "<div>\n",
       "<style scoped>\n",
       "    .dataframe tbody tr th:only-of-type {\n",
       "        vertical-align: middle;\n",
       "    }\n",
       "\n",
       "    .dataframe tbody tr th {\n",
       "        vertical-align: top;\n",
       "    }\n",
       "\n",
       "    .dataframe thead th {\n",
       "        text-align: right;\n",
       "    }\n",
       "</style>\n",
       "<table border=\"1\" class=\"dataframe\">\n",
       "  <thead>\n",
       "    <tr style=\"text-align: right;\">\n",
       "      <th></th>\n",
       "      <th>pop</th>\n",
       "      <th>year</th>\n",
       "    </tr>\n",
       "  </thead>\n",
       "  <tbody>\n",
       "    <tr>\n",
       "      <th>one</th>\n",
       "      <td>1.5</td>\n",
       "      <td>2017</td>\n",
       "    </tr>\n",
       "    <tr>\n",
       "      <th>two</th>\n",
       "      <td>1.7</td>\n",
       "      <td>2018</td>\n",
       "    </tr>\n",
       "    <tr>\n",
       "      <th>three</th>\n",
       "      <td>3.6</td>\n",
       "      <td>2019</td>\n",
       "    </tr>\n",
       "    <tr>\n",
       "      <th>four</th>\n",
       "      <td>2.4</td>\n",
       "      <td>2020</td>\n",
       "    </tr>\n",
       "    <tr>\n",
       "      <th>five</th>\n",
       "      <td>2.9</td>\n",
       "      <td>2021</td>\n",
       "    </tr>\n",
       "    <tr>\n",
       "      <th>six</th>\n",
       "      <td>3.2</td>\n",
       "      <td>2022</td>\n",
       "    </tr>\n",
       "  </tbody>\n",
       "</table>\n",
       "</div>"
      ],
      "text/plain": [
       "       pop  year\n",
       "one    1.5  2017\n",
       "two    1.7  2018\n",
       "three  3.6  2019\n",
       "four   2.4  2020\n",
       "five   2.9  2021\n",
       "six    3.2  2022"
      ]
     },
     "execution_count": 44,
     "metadata": {},
     "output_type": "execute_result"
    }
   ],
   "source": [
    "# we can specify the order of the columns and even which columns we need\n",
    "index_l = ['one', 'two', 'three', 'four', 'five', 'six']\n",
    "df = pd.DataFrame(data, columns=['pop', 'year'], index=index_l)\n",
    "df['pop'] # we now have a Pandas Series\n",
    "df"
   ]
  },
  {
   "cell_type": "markdown",
   "id": "d74f795e",
   "metadata": {},
   "source": [
    "#### Accessing data within Data Frames"
   ]
  },
  {
   "cell_type": "code",
   "execution_count": 43,
   "id": "07d9ec6e",
   "metadata": {},
   "outputs": [
    {
     "data": {
      "text/plain": [
       "pop        1.7\n",
       "year    2018.0\n",
       "Name: two, dtype: float64"
      ]
     },
     "execution_count": 43,
     "metadata": {},
     "output_type": "execute_result"
    }
   ],
   "source": [
    "# we an use the index to access members\n",
    "df.loc['two'] # here we access LOCation of a row"
   ]
  },
  {
   "cell_type": "code",
   "execution_count": 45,
   "id": "7a704cb9",
   "metadata": {},
   "outputs": [
    {
     "data": {
      "text/plain": [
       "pop        2.4\n",
       "year    2020.0\n",
       "Name: four, dtype: float64"
      ]
     },
     "execution_count": 45,
     "metadata": {},
     "output_type": "execute_result"
    }
   ],
   "source": [
    "# in addition we can access by teh numerical position of a row\n",
    "df.iloc[3] # iloc is index location (zero-based)"
   ]
  },
  {
   "cell_type": "code",
   "execution_count": 53,
   "id": "b9675bfb",
   "metadata": {},
   "outputs": [
    {
     "data": {
      "text/plain": [
       "town    Galway\n",
       "year      2019\n",
       "pop        3.6\n",
       "Name: 6, dtype: object"
      ]
     },
     "execution_count": 53,
     "metadata": {},
     "output_type": "execute_result"
    }
   ],
   "source": [
    "# we need a fresh Data Frame\n",
    "num_list = [4,5,6,3,2,1]\n",
    "df4 = pd.DataFrame(data, index=num_list)\n",
    "df4 # careful - our own numbbers are the index, there is still an underlying ordinal index\n",
    "df4.loc[6] # our index member 6\n",
    "df4.iloc[2] # underlying ordinal 2"
   ]
  },
  {
   "cell_type": "code",
   "execution_count": 55,
   "id": "169ae073",
   "metadata": {},
   "outputs": [
    {
     "data": {
      "text/html": [
       "<div>\n",
       "<style scoped>\n",
       "    .dataframe tbody tr th:only-of-type {\n",
       "        vertical-align: middle;\n",
       "    }\n",
       "\n",
       "    .dataframe tbody tr th {\n",
       "        vertical-align: top;\n",
       "    }\n",
       "\n",
       "    .dataframe thead th {\n",
       "        text-align: right;\n",
       "    }\n",
       "</style>\n",
       "<table border=\"1\" class=\"dataframe\">\n",
       "  <thead>\n",
       "    <tr style=\"text-align: right;\">\n",
       "      <th></th>\n",
       "      <th>town</th>\n",
       "      <th>year</th>\n",
       "      <th>pop</th>\n",
       "      <th>Tour</th>\n",
       "    </tr>\n",
       "  </thead>\n",
       "  <tbody>\n",
       "    <tr>\n",
       "      <th>4</th>\n",
       "      <td>Cork</td>\n",
       "      <td>2017</td>\n",
       "      <td>1.5</td>\n",
       "      <td>0.0</td>\n",
       "    </tr>\n",
       "    <tr>\n",
       "      <th>5</th>\n",
       "      <td>Dublin</td>\n",
       "      <td>2018</td>\n",
       "      <td>1.7</td>\n",
       "      <td>1.0</td>\n",
       "    </tr>\n",
       "    <tr>\n",
       "      <th>6</th>\n",
       "      <td>Galway</td>\n",
       "      <td>2019</td>\n",
       "      <td>3.6</td>\n",
       "      <td>2.0</td>\n",
       "    </tr>\n",
       "    <tr>\n",
       "      <th>3</th>\n",
       "      <td>Athlone</td>\n",
       "      <td>2020</td>\n",
       "      <td>2.4</td>\n",
       "      <td>3.0</td>\n",
       "    </tr>\n",
       "    <tr>\n",
       "      <th>2</th>\n",
       "      <td>Shannon</td>\n",
       "      <td>2021</td>\n",
       "      <td>2.9</td>\n",
       "      <td>4.0</td>\n",
       "    </tr>\n",
       "    <tr>\n",
       "      <th>1</th>\n",
       "      <td>Roscarberry</td>\n",
       "      <td>2022</td>\n",
       "      <td>3.2</td>\n",
       "      <td>5.0</td>\n",
       "    </tr>\n",
       "  </tbody>\n",
       "</table>\n",
       "</div>"
      ],
      "text/plain": [
       "          town  year  pop  Tour\n",
       "4         Cork  2017  1.5   0.0\n",
       "5       Dublin  2018  1.7   1.0\n",
       "6       Galway  2019  3.6   2.0\n",
       "3      Athlone  2020  2.4   3.0\n",
       "2      Shannon  2021  2.9   4.0\n",
       "1  Roscarberry  2022  3.2   5.0"
      ]
     },
     "execution_count": 55,
     "metadata": {},
     "output_type": "execute_result"
    }
   ],
   "source": [
    "# we can add new data columns to an existing Data Frame\n",
    "df4['Tour'] = np.arange(6.)\n",
    "df4"
   ]
  },
  {
   "cell_type": "code",
   "execution_count": 74,
   "id": "f30faaac",
   "metadata": {},
   "outputs": [
    {
     "data": {
      "text/html": [
       "<div>\n",
       "<style scoped>\n",
       "    .dataframe tbody tr th:only-of-type {\n",
       "        vertical-align: middle;\n",
       "    }\n",
       "\n",
       "    .dataframe tbody tr th {\n",
       "        vertical-align: top;\n",
       "    }\n",
       "\n",
       "    .dataframe thead th {\n",
       "        text-align: right;\n",
       "    }\n",
       "</style>\n",
       "<table border=\"1\" class=\"dataframe\">\n",
       "  <thead>\n",
       "    <tr style=\"text-align: right;\">\n",
       "      <th></th>\n",
       "      <th>town</th>\n",
       "      <th>year</th>\n",
       "      <th>pop</th>\n",
       "      <th>Tour</th>\n",
       "    </tr>\n",
       "  </thead>\n",
       "  <tbody>\n",
       "    <tr>\n",
       "      <th>4</th>\n",
       "      <td>Cork</td>\n",
       "      <td>2017</td>\n",
       "      <td>1.5</td>\n",
       "      <td>3.2</td>\n",
       "    </tr>\n",
       "    <tr>\n",
       "      <th>5</th>\n",
       "      <td>Dublin</td>\n",
       "      <td>2018</td>\n",
       "      <td>1.7</td>\n",
       "      <td>NaN</td>\n",
       "    </tr>\n",
       "    <tr>\n",
       "      <th>6</th>\n",
       "      <td>Galway</td>\n",
       "      <td>2019</td>\n",
       "      <td>3.6</td>\n",
       "      <td>5.3</td>\n",
       "    </tr>\n",
       "    <tr>\n",
       "      <th>3</th>\n",
       "      <td>Athlone</td>\n",
       "      <td>2020</td>\n",
       "      <td>2.4</td>\n",
       "      <td>NaN</td>\n",
       "    </tr>\n",
       "    <tr>\n",
       "      <th>2</th>\n",
       "      <td>Shannon</td>\n",
       "      <td>2021</td>\n",
       "      <td>2.9</td>\n",
       "      <td>2.9</td>\n",
       "    </tr>\n",
       "    <tr>\n",
       "      <th>1</th>\n",
       "      <td>Roscarberry</td>\n",
       "      <td>2022</td>\n",
       "      <td>3.2</td>\n",
       "      <td>NaN</td>\n",
       "    </tr>\n",
       "  </tbody>\n",
       "</table>\n",
       "</div>"
      ],
      "text/plain": [
       "          town  year  pop  Tour\n",
       "4         Cork  2017  1.5   3.2\n",
       "5       Dublin  2018  1.7   NaN\n",
       "6       Galway  2019  3.6   5.3\n",
       "3      Athlone  2020  2.4   NaN\n",
       "2      Shannon  2021  2.9   2.9\n",
       "1  Roscarberry  2022  3.2   NaN"
      ]
     },
     "execution_count": 74,
     "metadata": {},
     "output_type": "execute_result"
    }
   ],
   "source": [
    "# most changes do not persist\n",
    "df4.loc[4]['Tour']+3\n",
    "# to overwrite values\n",
    "new_values = [3.2, 5.3, 2.9]\n",
    "# here we DO override the values - they persist\n",
    "# Careful - missing values are now NaN\n",
    "df4['Tour'] = pd.Series(new_values, index=[4, 6, 2])\n",
    "df4"
   ]
  },
  {
   "cell_type": "markdown",
   "id": "e4f60be7",
   "metadata": {},
   "source": [
    "#### Indexing and Filtering Data Frames"
   ]
  },
  {
   "cell_type": "code",
   "execution_count": 102,
   "id": "ad901758",
   "metadata": {},
   "outputs": [
    {
     "data": {
      "text/html": [
       "<div>\n",
       "<style scoped>\n",
       "    .dataframe tbody tr th:only-of-type {\n",
       "        vertical-align: middle;\n",
       "    }\n",
       "\n",
       "    .dataframe tbody tr th {\n",
       "        vertical-align: top;\n",
       "    }\n",
       "\n",
       "    .dataframe thead th {\n",
       "        text-align: right;\n",
       "    }\n",
       "</style>\n",
       "<table border=\"1\" class=\"dataframe\">\n",
       "  <thead>\n",
       "    <tr style=\"text-align: right;\">\n",
       "      <th></th>\n",
       "      <th>one</th>\n",
       "      <th>two</th>\n",
       "      <th>three</th>\n",
       "      <th>four</th>\n",
       "    </tr>\n",
       "  </thead>\n",
       "  <tbody>\n",
       "    <tr>\n",
       "      <th>Waterford</th>\n",
       "      <td>0</td>\n",
       "      <td>1</td>\n",
       "      <td>2</td>\n",
       "      <td>3</td>\n",
       "    </tr>\n",
       "    <tr>\n",
       "      <th>Clonakilty</th>\n",
       "      <td>4</td>\n",
       "      <td>5</td>\n",
       "      <td>6</td>\n",
       "      <td>7</td>\n",
       "    </tr>\n",
       "    <tr>\n",
       "      <th>Athenry</th>\n",
       "      <td>8</td>\n",
       "      <td>9</td>\n",
       "      <td>10</td>\n",
       "      <td>11</td>\n",
       "    </tr>\n",
       "    <tr>\n",
       "      <th>Meath</th>\n",
       "      <td>12</td>\n",
       "      <td>13</td>\n",
       "      <td>14</td>\n",
       "      <td>15</td>\n",
       "    </tr>\n",
       "  </tbody>\n",
       "</table>\n",
       "</div>"
      ],
      "text/plain": [
       "            one  two  three  four\n",
       "Waterford     0    1      2     3\n",
       "Clonakilty    4    5      6     7\n",
       "Athenry       8    9     10    11\n",
       "Meath        12   13     14    15"
      ]
     },
     "execution_count": 102,
     "metadata": {},
     "output_type": "execute_result"
    }
   ],
   "source": [
    "i = ['Waterford', 'Clonakilty', 'Athenry', 'Meath']\n",
    "c = ['one', 'two', 'three', 'four']\n",
    "df5 = pd.DataFrame(np.arange(16).reshape(4,4), index=i, columns=c)\n",
    "df5"
   ]
  },
  {
   "cell_type": "code",
   "execution_count": 109,
   "id": "bce309b0",
   "metadata": {},
   "outputs": [
    {
     "data": {
      "text/html": [
       "<div>\n",
       "<style scoped>\n",
       "    .dataframe tbody tr th:only-of-type {\n",
       "        vertical-align: middle;\n",
       "    }\n",
       "\n",
       "    .dataframe tbody tr th {\n",
       "        vertical-align: top;\n",
       "    }\n",
       "\n",
       "    .dataframe thead th {\n",
       "        text-align: right;\n",
       "    }\n",
       "</style>\n",
       "<table border=\"1\" class=\"dataframe\">\n",
       "  <thead>\n",
       "    <tr style=\"text-align: right;\">\n",
       "      <th></th>\n",
       "      <th>one</th>\n",
       "      <th>two</th>\n",
       "      <th>three</th>\n",
       "      <th>four</th>\n",
       "    </tr>\n",
       "  </thead>\n",
       "  <tbody>\n",
       "    <tr>\n",
       "      <th>Waterford</th>\n",
       "      <td>0</td>\n",
       "      <td>1</td>\n",
       "      <td>2</td>\n",
       "      <td>3</td>\n",
       "    </tr>\n",
       "    <tr>\n",
       "      <th>Clonakilty</th>\n",
       "      <td>4</td>\n",
       "      <td>5</td>\n",
       "      <td>0</td>\n",
       "      <td>7</td>\n",
       "    </tr>\n",
       "    <tr>\n",
       "      <th>Athenry</th>\n",
       "      <td>8</td>\n",
       "      <td>9</td>\n",
       "      <td>10</td>\n",
       "      <td>11</td>\n",
       "    </tr>\n",
       "    <tr>\n",
       "      <th>Meath</th>\n",
       "      <td>12</td>\n",
       "      <td>13</td>\n",
       "      <td>14</td>\n",
       "      <td>15</td>\n",
       "    </tr>\n",
       "  </tbody>\n",
       "</table>\n",
       "</div>"
      ],
      "text/plain": [
       "            one  two  three  four\n",
       "Waterford     0    1      2     3\n",
       "Clonakilty    4    5      0     7\n",
       "Athenry       8    9     10    11\n",
       "Meath        12   13     14    15"
      ]
     },
     "execution_count": 109,
     "metadata": {},
     "output_type": "execute_result"
    }
   ],
   "source": [
    "# we can spot outlying values\n",
    "whichRow = df5[ df5['three'] == 6 ] # we now know which row(s)\n",
    "whichRow['three'] = 0\n",
    "whichRow\n",
    "df5.loc['Clonakilty']['three'] = 0\n",
    "df5"
   ]
  },
  {
   "cell_type": "code",
   "execution_count": null,
   "id": "33c8f422",
   "metadata": {},
   "outputs": [],
   "source": []
  },
  {
   "cell_type": "code",
   "execution_count": null,
   "id": "53bee881",
   "metadata": {},
   "outputs": [],
   "source": []
  }
 ],
 "metadata": {
  "kernelspec": {
   "display_name": "Python 3 (ipykernel)",
   "language": "python",
   "name": "python3"
  },
  "language_info": {
   "codemirror_mode": {
    "name": "ipython",
    "version": 3
   },
   "file_extension": ".py",
   "mimetype": "text/x-python",
   "name": "python",
   "nbconvert_exporter": "python",
   "pygments_lexer": "ipython3",
   "version": "3.9.12"
  }
 },
 "nbformat": 4,
 "nbformat_minor": 5
}
