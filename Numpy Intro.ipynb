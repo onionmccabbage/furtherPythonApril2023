{
 "cells": [
  {
   "cell_type": "code",
   "execution_count": 3,
   "id": "b55f557d",
   "metadata": {},
   "outputs": [
    {
     "name": "stdout",
     "output_type": "stream",
     "text": [
      "2.3333333333333335\n"
     ]
    },
    {
     "data": {
      "text/plain": [
       "21"
      ]
     },
     "execution_count": 3,
     "metadata": {},
     "output_type": "execute_result"
    }
   ],
   "source": [
    "# we can write any and every bit of normal Python right here\n",
    "a = 3\n",
    "b = 7\n",
    "print(b/a) # NB no need for print statement\n",
    "b+a\n",
    "b-a\n",
    "b*a # careful: only the last line will result in any outout. NB uses __repr__ (not __str__)"
   ]
  },
  {
   "cell_type": "code",
   "execution_count": 8,
   "id": "f91d87ad",
   "metadata": {},
   "outputs": [
    {
     "data": {
      "text/plain": [
       "9"
      ]
     },
     "execution_count": 8,
     "metadata": {},
     "output_type": "execute_result"
    }
   ],
   "source": [
    "def fn(n):\n",
    "    return n*n\n",
    "\n",
    "fn(3)"
   ]
  },
  {
   "cell_type": "code",
   "execution_count": 9,
   "id": "93399bfa",
   "metadata": {},
   "outputs": [],
   "source": [
    "# ctrl-enter will run the current cell\n",
    "# shift-enter will run the current cell and insert a new cell below"
   ]
  },
  {
   "cell_type": "code",
   "execution_count": 12,
   "id": "2eb83edd",
   "metadata": {},
   "outputs": [],
   "source": [
    "import numpy as np # by convention call it np"
   ]
  },
  {
   "cell_type": "code",
   "execution_count": 22,
   "id": "4dbb493b",
   "metadata": {},
   "outputs": [
    {
     "data": {
      "text/plain": [
       "array([3, 4, 5, 6, 7, 8, 9])"
      ]
     },
     "execution_count": 22,
     "metadata": {},
     "output_type": "execute_result"
    }
   ],
   "source": [
    "n = np.arange(3, 10) # start, stop-before, step\n",
    "# an array-range can only contain the SAME data type members\n",
    "# arange is a mutable indexed collection of ONE data type\n",
    "n # arange is a new data type provided by numpy\n",
    "n.dtype\n",
    "n"
   ]
  },
  {
   "cell_type": "code",
   "execution_count": 20,
   "id": "a3603317",
   "metadata": {},
   "outputs": [
    {
     "data": {
      "text/plain": [
       "dtype('float64')"
      ]
     },
     "execution_count": 20,
     "metadata": {},
     "output_type": "execute_result"
    }
   ],
   "source": [
    "# n-dimensional arrays: mutable arrays of a single data type\n",
    "# we can work with arrays of as many dimensions as we like. Typically 2-dimensions\n",
    "d = np.random.randn(9,3) # rows, columns\n",
    "d.shape # (9, 3)\n",
    "d.dtype # numpy adds new data types: float64, int32 ...."
   ]
  },
  {
   "cell_type": "code",
   "execution_count": 25,
   "id": "e3dce437",
   "metadata": {},
   "outputs": [
    {
     "data": {
      "text/plain": [
       "array([[0., 0., 0., 0., 0., 0.],\n",
       "       [0., 0., 0., 0., 0., 0.],\n",
       "       [0., 0., 0., 0., 0., 0.]])"
      ]
     },
     "execution_count": 25,
     "metadata": {},
     "output_type": "execute_result"
    }
   ],
   "source": [
    "z = np.zeros( (3,6) ) # these are floating-point zeros\n",
    "z"
   ]
  },
  {
   "cell_type": "code",
   "execution_count": 26,
   "id": "871410f2",
   "metadata": {},
   "outputs": [
    {
     "data": {
      "text/plain": [
       "array([[0., 0., 0.],\n",
       "       [0., 0., 0.],\n",
       "       [0., 0., 0.],\n",
       "       [0., 0., 0.],\n",
       "       [0., 0., 0.],\n",
       "       [0., 0., 0.]])"
      ]
     },
     "execution_count": 26,
     "metadata": {},
     "output_type": "execute_result"
    }
   ],
   "source": [
    "e = np.empty( (6,3) )\n",
    "e # it is not necessarily empty - it points to avaialbe 'empty' memory"
   ]
  },
  {
   "cell_type": "code",
   "execution_count": 30,
   "id": "12f2fa85",
   "metadata": {},
   "outputs": [
    {
     "name": "stdout",
     "output_type": "stream",
     "text": [
      "[[ 2.20126109  0.44195166 -0.00451976]\n",
      " [ 0.79531589  1.32796835  1.25606214]\n",
      " [-1.09608314 -0.43987394 -0.33806797]\n",
      " [ 0.18072144 -0.47111407 -0.02246793]\n",
      " [ 0.5905249   0.7539979  -0.18475486]\n",
      " [ 0.48072345 -2.50418114  0.561691  ]\n",
      " [-0.43520647 -0.18685796 -1.67242629]\n",
      " [ 1.99176235 -0.70072609  0.34900594]\n",
      " [ 0.41758262 -1.3127504   0.89682632]]\n"
     ]
    },
    {
     "data": {
      "text/plain": [
       "array([[b'2.2012610939291917', b'0.44195165589635943',\n",
       "        b'-0.004519758171854448'],\n",
       "       [b'0.7953158889230688', b'1.3279683472275317',\n",
       "        b'1.2560621369130598'],\n",
       "       [b'-1.0960831356954608', b'-0.43987393959278454',\n",
       "        b'-0.3380679658389464'],\n",
       "       [b'0.1807214384877849', b'-0.47111406684315216',\n",
       "        b'-0.022467930403329946'],\n",
       "       [b'0.5905249044647811', b'0.7539979020568215',\n",
       "        b'-0.18475485586029028'],\n",
       "       [b'0.48072345218014556', b'-2.5041811440126143',\n",
       "        b'0.5616910032970832'],\n",
       "       [b'-0.43520646894989473', b'-0.18685795663790988',\n",
       "        b'-1.6724262889190102'],\n",
       "       [b'1.9917623494087315', b'-0.7007260869952108',\n",
       "        b'0.34900593808818364'],\n",
       "       [b'0.41758262302297167', b'-1.3127503961533877',\n",
       "        b'0.8968263188162725']], dtype='|S32')"
      ]
     },
     "execution_count": 30,
     "metadata": {},
     "output_type": "execute_result"
    }
   ],
   "source": [
    "s= d.astype(np.string_) # this is numpy syntax\n",
    "print(d)\n",
    "s # converting to string showed the FULL accuracy of the original floating point numbers"
   ]
  },
  {
   "cell_type": "code",
   "execution_count": 36,
   "id": "dc18e0bc",
   "metadata": {},
   "outputs": [
    {
     "data": {
      "text/plain": [
       "array([[[9., 9., 9.],\n",
       "        [9., 9., 9.],\n",
       "        [9., 9., 9.]],\n",
       "\n",
       "       [[9., 9., 9.],\n",
       "        [9., 9., 9.],\n",
       "        [9., 9., 9.]],\n",
       "\n",
       "       [[9., 9., 9.],\n",
       "        [9., 9., 9.],\n",
       "        [9., 9., 9.]]])"
      ]
     },
     "execution_count": 36,
     "metadata": {},
     "output_type": "execute_result"
    }
   ],
   "source": [
    "# we can have as many dimensions as we like\n",
    "z = np.zeros( (3,3,3) )\n",
    "r = z+3 # careful - the maths does not mutate the orignal\n",
    "r = r**2 # maths orperators will apply to every member of the array\n",
    "r"
   ]
  },
  {
   "cell_type": "code",
   "execution_count": 39,
   "id": "8427f2bd",
   "metadata": {},
   "outputs": [
    {
     "data": {
      "text/plain": [
       "array([[ 0.79531589,  1.32796835,  1.25606214],\n",
       "       [ 0.18072144, -0.47111407, -0.02246793]])"
      ]
     },
     "execution_count": 39,
     "metadata": {},
     "output_type": "execute_result"
    }
   ],
   "source": [
    "# we can grab members from the array using indexing\n",
    "d[1:4:2] # start:stop-before:step"
   ]
  },
  {
   "cell_type": "code",
   "execution_count": 41,
   "id": "4c731206",
   "metadata": {},
   "outputs": [
    {
     "data": {
      "text/plain": [
       "array([[ 2.20126109,  0.79531589, -1.09608314,  0.18072144,  0.5905249 ,\n",
       "         0.48072345, -0.43520647,  1.99176235,  0.41758262],\n",
       "       [ 0.44195166,  1.32796835, -0.43987394, -0.47111407,  0.7539979 ,\n",
       "        -2.50418114, -0.18685796, -0.70072609, -1.3127504 ],\n",
       "       [-0.00451976,  1.25606214, -0.33806797, -0.02246793, -0.18475486,\n",
       "         0.561691  , -1.67242629,  0.34900594,  0.89682632]])"
      ]
     },
     "execution_count": 41,
     "metadata": {},
     "output_type": "execute_result"
    }
   ],
   "source": [
    "d.T # T will transpose an array"
   ]
  },
  {
   "cell_type": "code",
   "execution_count": null,
   "id": "337f971f",
   "metadata": {},
   "outputs": [],
   "source": []
  }
 ],
 "metadata": {
  "kernelspec": {
   "display_name": "Python 3 (ipykernel)",
   "language": "python",
   "name": "python3"
  },
  "language_info": {
   "codemirror_mode": {
    "name": "ipython",
    "version": 3
   },
   "file_extension": ".py",
   "mimetype": "text/x-python",
   "name": "python",
   "nbconvert_exporter": "python",
   "pygments_lexer": "ipython3",
   "version": "3.9.12"
  }
 },
 "nbformat": 4,
 "nbformat_minor": 5
}
